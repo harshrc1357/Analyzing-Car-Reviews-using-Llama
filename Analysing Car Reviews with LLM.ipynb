{
  "cells": [
    {
      "source": [
        "#Analysing Car Reviews with LLM"
      ],
      "metadata": {
        "id": "9aabafca-8129-4943-b865-d5e897637253"
      },
      "id": "9aabafca-8129-4943-b865-d5e897637253",
      "cell_type": "markdown"
    },
    {
      "source": [
        "# Import necessary packages\n",
        "import pandas as pd\n",
        "import torch\n",
        "\n",
        "from transformers import logging\n",
        "logging.set_verbosity(logging.WARNING)"
      ],
      "metadata": {
        "executionCancelledAt": null,
        "executionTime": 3646,
        "lastExecutedAt": 1744398555232,
        "lastScheduledRunId": null,
        "lastSuccessfullyExecutedCode": "# Import necessary packages\nimport pandas as pd\nimport torch\n\nfrom transformers import logging\nlogging.set_verbosity(logging.WARNING)",
        "outputsMetadata": {
          "0": {
            "height": 553,
            "type": "stream"
          }
        },
        "jupyter": {
          "outputs_hidden": false,
          "source_hidden": false
        },
        "lastExecutedByKernel": "ba0ea5e1-b52e-43ef-b47f-d580dd08b68d",
        "id": "5325a4c0-ceb3-4b66-acd2-5eadcefe3a63"
      },
      "id": "5325a4c0-ceb3-4b66-acd2-5eadcefe3a63",
      "cell_type": "code",
      "execution_count": null,
      "outputs": []
    },
    {
      "source": [
        "# Start your code here!\n",
        "file_path = \"data/car_reviews.csv\"\n",
        "df = pd.read_csv(file_path, delimiter=';')\n",
        "print(df.head(5))"
      ],
      "metadata": {
        "executionCancelledAt": null,
        "executionTime": 27,
        "lastExecutedAt": 1744398555998,
        "lastExecutedByKernel": "ba0ea5e1-b52e-43ef-b47f-d580dd08b68d",
        "lastScheduledRunId": null,
        "lastSuccessfullyExecutedCode": "# Start your code here!\nfile_path = \"data/car_reviews.csv\"\ndf = pd.read_csv(file_path, delimiter=';')\nprint(df.head(5))",
        "outputsMetadata": {
          "0": {
            "height": 143,
            "type": "stream"
          }
        },
        "id": "6c3a3bf7-8675-4fdf-8580-0c69b58f471e",
        "outputId": "85d199a3-4586-4fa2-b37e-80e19ab5caa7"
      },
      "id": "6c3a3bf7-8675-4fdf-8580-0c69b58f471e",
      "cell_type": "code",
      "execution_count": null,
      "outputs": [
        {
          "output_type": "stream",
          "name": "stdout",
          "text": "                                              Review     Class\n0  I am very satisfied with my 2014 Nissan NV SL....  POSITIVE\n1  The car is fine. It's a bit loud and not very ...  NEGATIVE\n2  My first foreign car. Love it, I would buy ano...  POSITIVE\n3  I've come across numerous reviews praising the...  NEGATIVE\n4  I've been dreaming of owning an SUV for quite ...  POSITIVE\n"
        }
      ]
    },
    {
      "source": [
        "#Separating reviews and class as target\n",
        "reviews = df['Review'].tolist()\n",
        "real_labels = df['Class'].tolist()"
      ],
      "metadata": {
        "executionCancelledAt": null,
        "executionTime": 11,
        "lastExecutedAt": 1744398557734,
        "lastExecutedByKernel": "ba0ea5e1-b52e-43ef-b47f-d580dd08b68d",
        "lastScheduledRunId": null,
        "lastSuccessfullyExecutedCode": "#Separating reviews and class as target\nreviews = df['Review'].tolist()\nreal_labels = df['Class'].tolist()",
        "id": "a720fdbd-7c17-4baa-9f7b-95d99f88e373"
      },
      "cell_type": "code",
      "id": "a720fdbd-7c17-4baa-9f7b-95d99f88e373",
      "outputs": [],
      "execution_count": null
    },
    {
      "source": [
        "#Performing Sentiment Analysis\n",
        "from transformers import pipeline\n",
        "classifier = pipeline('sentiment-analysis', model='distilbert-base-uncased-finetuned-sst-2-english')\n",
        "\n",
        "predicted_labels = classifier(reviews)\n",
        "for review, prediction, label in zip(reviews, predicted_labels, real_labels):\n",
        "    print(f\"Review: {review}\\nActual Sentiment: {label}\\nPredicted Sentiment: {prediction['label']} (Confidence: {prediction['score']:.4f})\\n\")\n",
        "\n",
        "# Load accuracy and F1 score metrics\n",
        "import evaluate\n",
        "accuracy = evaluate.load(\"accuracy\")\n",
        "f1 = evaluate.load(\"f1\")\n",
        "\n",
        "# Map categorical sentiment labels into integer labels\n",
        "references = [1 if label == \"POSITIVE\" else 0 for label in real_labels]\n",
        "predictions = [1 if label['label'] == \"POSITIVE\" else 0 for label in predicted_labels]\n",
        "\n",
        "# Calculate accuracy and F1 score\n",
        "accuracy_result_dict = accuracy.compute(references=references, predictions=predictions)\n",
        "accuracy_result = accuracy_result_dict['accuracy']\n",
        "f1_result_dict = f1.compute(references=references, predictions=predictions)\n",
        "f1_result = f1_result_dict['f1']\n",
        "print(f\"Accuracy: {accuracy_result}\")\n",
        "print(f\"F1 result: {f1_result}\")\n"
      ],
      "metadata": {
        "executionCancelledAt": null,
        "executionTime": 7749,
        "lastExecutedAt": 1744398567272,
        "lastExecutedByKernel": "ba0ea5e1-b52e-43ef-b47f-d580dd08b68d",
        "lastScheduledRunId": null,
        "lastSuccessfullyExecutedCode": "#Performing Sentiment Analysis\nfrom transformers import pipeline\nclassifier = pipeline('sentiment-analysis', model='distilbert-base-uncased-finetuned-sst-2-english')\n\npredicted_labels = classifier(reviews)\nfor review, prediction, label in zip(reviews, predicted_labels, real_labels):\n    print(f\"Review: {review}\\nActual Sentiment: {label}\\nPredicted Sentiment: {prediction['label']} (Confidence: {prediction['score']:.4f})\\n\")\n\n# Load accuracy and F1 score metrics    \nimport evaluate\naccuracy = evaluate.load(\"accuracy\")\nf1 = evaluate.load(\"f1\")\n\n# Map categorical sentiment labels into integer labels\nreferences = [1 if label == \"POSITIVE\" else 0 for label in real_labels]\npredictions = [1 if label['label'] == \"POSITIVE\" else 0 for label in predicted_labels]\n\n# Calculate accuracy and F1 score\naccuracy_result_dict = accuracy.compute(references=references, predictions=predictions)\naccuracy_result = accuracy_result_dict['accuracy']\nf1_result_dict = f1.compute(references=references, predictions=predictions)\nf1_result = f1_result_dict['f1']\nprint(f\"Accuracy: {accuracy_result}\")\nprint(f\"F1 result: {f1_result}\")\n",
        "outputsMetadata": {
          "0": {
            "height": 437,
            "type": "stream"
          },
          "5": {
            "height": 38,
            "type": "stream"
          },
          "6": {
            "height": 616,
            "type": "stream"
          },
          "9": {
            "height": 59,
            "type": "stream"
          }
        },
        "colab": {
          "referenced_widgets": [
            "5fadfaf6a6cb4fce9fece36980f85e6c",
            "d7ca9b5f9c824c8b9aac9d3400740f70",
            "4f598b508ab640ddbfc535f06fa88fa2",
            "cfa1c4b6c27b4c08b340ed62d34d1709",
            "a051c6903d594e20ba3dbcc2ff2cf912",
            "e2b17c34d476431899a94c60e83573e8"
          ]
        },
        "id": "8a52024e-d5c3-4b7b-9bff-14ff05711781",
        "outputId": "38a8eb88-c3f8-4990-e9c8-bb2e66c00c81"
      },
      "cell_type": "code",
      "id": "8a52024e-d5c3-4b7b-9bff-14ff05711781",
      "outputs": [
        {
          "output_type": "stream",
          "name": "stderr",
          "text": "2025-04-11 19:09:20.874393: E external/local_xla/xla/stream_executor/cuda/cuda_fft.cc:467] Unable to register cuFFT factory: Attempting to register factory for plugin cuFFT when one has already been registered\nWARNING: All log messages before absl::InitializeLog() is called are written to STDERR\nE0000 00:00:1744398560.890477     466 cuda_dnn.cc:8579] Unable to register cuDNN factory: Attempting to register factory for plugin cuDNN when one has already been registered\nE0000 00:00:1744398560.895499     466 cuda_blas.cc:1407] Unable to register cuBLAS factory: Attempting to register factory for plugin cuBLAS when one has already been registered\nW0000 00:00:1744398560.908891     466 computation_placer.cc:177] computation placer already registered. Please check linkage and avoid linking the same target more than once.\nW0000 00:00:1744398560.908910     466 computation_placer.cc:177] computation placer already registered. Please check linkage and avoid linking the same target more than once.\nW0000 00:00:1744398560.908912     466 computation_placer.cc:177] computation placer already registered. Please check linkage and avoid linking the same target more than once.\nW0000 00:00:1744398560.908914     466 computation_placer.cc:177] computation placer already registered. Please check linkage and avoid linking the same target more than once.\n2025-04-11 19:09:20.913683: I tensorflow/core/platform/cpu_feature_guard.cc:210] This TensorFlow binary is optimized to use available CPU instructions in performance-critical operations.\nTo enable the following instructions: AVX2 FMA, in other operations, rebuild TensorFlow with the appropriate compiler flags.\n"
        },
        {
          "output_type": "display_data",
          "data": {
            "text/plain": "config.json:   0%|          | 0.00/629 [00:00<?, ?B/s]",
            "application/vnd.jupyter.widget-view+json": {
              "version_major": 2,
              "version_minor": 0,
              "model_id": "5fadfaf6a6cb4fce9fece36980f85e6c"
            }
          },
          "metadata": {}
        },
        {
          "output_type": "display_data",
          "data": {
            "text/plain": "model.safetensors:   0%|          | 0.00/268M [00:00<?, ?B/s]",
            "application/vnd.jupyter.widget-view+json": {
              "version_major": 2,
              "version_minor": 0,
              "model_id": "d7ca9b5f9c824c8b9aac9d3400740f70"
            }
          },
          "metadata": {}
        },
        {
          "output_type": "display_data",
          "data": {
            "text/plain": "tokenizer_config.json:   0%|          | 0.00/48.0 [00:00<?, ?B/s]",
            "application/vnd.jupyter.widget-view+json": {
              "version_major": 2,
              "version_minor": 0,
              "model_id": "4f598b508ab640ddbfc535f06fa88fa2"
            }
          },
          "metadata": {}
        },
        {
          "output_type": "display_data",
          "data": {
            "text/plain": "vocab.txt:   0%|          | 0.00/232k [00:00<?, ?B/s]",
            "application/vnd.jupyter.widget-view+json": {
              "version_major": 2,
              "version_minor": 0,
              "model_id": "cfa1c4b6c27b4c08b340ed62d34d1709"
            }
          },
          "metadata": {}
        },
        {
          "output_type": "stream",
          "name": "stderr",
          "text": "Device set to use cpu\n"
        },
        {
          "output_type": "stream",
          "name": "stdout",
          "text": "Review: I am very satisfied with my 2014 Nissan NV SL. I use this van for my business deliveries and personal use. Camping, road trips, etc. We dont have any children so I store most of the seats in my warehouse. I wanted the passenger van for the rear air conditioning. We drove our van from Florida to California for a Cross Country trip in 2014. We averaged about 18 mpg. We drove thru a lot of rain and It was a very comfortable and stable vehicle. The V8 Nissan Titan engine is a 500k mile engine. It has been tested many times by delivery and trucking companies. This is why Nissan gives you a 5 year or 100k mile bumper to bumper warranty. Many people are scared about driving this van because of its size. But with front and rear sonar sensors, large mirrors and the back up camera. It is easy to drive. The front and rear sensors also monitor the front and rear sides of the bumpers making it easier to park close to objects. Our Nissan NV is a Tow Monster. It pulls our 5000 pound travel trailer like its not even there. I have plenty of power to pass a vehicle if needed. The 5.6 liter engine produces 317 hp. I have owned Chevy and Ford vans and there were not very comfortable and had little cockpit room. The Nissan NV is the only vehicle made that has the engine forward like a pick up truck giving the driver plenty of room and comfort in the cockpit area. I dont have any negatives to say about my NV. This is a wide vehicle. The only modification I would like to see from Nissan is for them to add amber side mirror marker lights.BTW. I now own a 2016 Nissan NVP SL. Love it.\nActual Sentiment: POSITIVE\nPredicted Sentiment: POSITIVE (Confidence: 0.9294)\n\nReview: The car is fine. It's a bit loud and not very powerful. On one hand, compared to its peers, the interior is well-built. The transmission failed a few years ago, and the dealer replaced it under warranty with no issues. Now, about 60k miles later, the transmission is failing again. It sounds like a truck, and the issues are well-documented. The dealer tells me it is normal, refusing to do anything to resolve the issue. After owning the car for 4 years, there are many other vehicles I would purchase over this one. Initially, I really liked what the brand is about: ride quality, reliability, etc. But I will not purchase another one. Despite these concerns, I must say, the level of comfort in the car has always been satisfactory, but not worth the rest of issues found.\nActual Sentiment: NEGATIVE\nPredicted Sentiment: POSITIVE (Confidence: 0.8654)\n\nReview: My first foreign car. Love it, I would buy another.\nActual Sentiment: POSITIVE\nPredicted Sentiment: POSITIVE (Confidence: 0.9995)\n\nReview: I've come across numerous reviews praising the Rogue, and I genuinely feel like I might be missing something. It's only been a week since I got the car, and I am genuinely disappointed. I truly wish I could return it. My main concern revolves around what I see as a significant design flaw (which I believe also exists in the Murano, though that wasn't much better and considerably pricier). The rear windshield is just too small. The headrests in the back seat obstruct the sides of the rearview window. This \"Crossover\" feels more like a cheaply made compact car. My other vehicle is a Sonata, and it provides a significantly quieter and smoother ride. I did not anticipate this car to ride so roughly; my 2006 Pathfinder had a smoother ride! I would rate this car a 5 all around.\nActual Sentiment: NEGATIVE\nPredicted Sentiment: NEGATIVE (Confidence: 0.9935)\n\nReview: I've been dreaming of owning an SUV for quite a while, but I've been driving cars that were already paid for during an extended period. I ultimately made the decision to transition to a brand-new car, which, of course, involved taking on new payments. However, given that I don't drive extensively, I was inclined to avoid a substantial financial commitment. The Nissan Rogue provides me with the desired SUV experience without burdening me with an exorbitant payment; the financial arrangement is quite reasonable. Handling and styling are great; I have hauled 12 bags of mulch in the back with the seats down and could have held more. I am VERY satisfied overall. I find myself needing to exercise extra caution when making lane changes, particularly owing to the blind spots resulting from the small side windows situated towards the rear of the vehicle. To address this concern, I am actively engaged in making adjustments to my mirrors and consciously reducing the frequency of lane changes. The engine delivers strong performance, and the ride is really smooth.\nActual Sentiment: POSITIVE\nPredicted Sentiment: POSITIVE (Confidence: 0.9987)\n\n"
        },
        {
          "output_type": "display_data",
          "data": {
            "text/plain": "Downloading builder script:   0%|          | 0.00/4.20k [00:00<?, ?B/s]",
            "application/vnd.jupyter.widget-view+json": {
              "version_major": 2,
              "version_minor": 0,
              "model_id": "a051c6903d594e20ba3dbcc2ff2cf912"
            }
          },
          "metadata": {}
        },
        {
          "output_type": "display_data",
          "data": {
            "text/plain": "Downloading builder script:   0%|          | 0.00/6.79k [00:00<?, ?B/s]",
            "application/vnd.jupyter.widget-view+json": {
              "version_major": 2,
              "version_minor": 0,
              "model_id": "e2b17c34d476431899a94c60e83573e8"
            }
          },
          "metadata": {}
        },
        {
          "output_type": "stream",
          "name": "stdout",
          "text": "Accuracy: 0.8\nF1 result: 0.8571428571428571\n"
        }
      ],
      "execution_count": null
    },
    {
      "source": [
        "#Translating car reviews from English to Spanish\n",
        "# Load translation LLM into a pipeline and translate car review\n",
        "first_review = reviews[0]\n",
        "translator = pipeline(\"translation\", model=\"Helsinki-NLP/opus-mt-en-es\")\n",
        "translated_review = translator(first_review, max_length=27)[0]['translation_text']\n",
        "print(f\"Model translation:\\n{translated_review}\")\n",
        "\n",
        "# Load reference translations from file\n",
        "with open(\"data/reference_translations.txt\", 'r') as file:\n",
        "    lines = file.readlines()\n",
        "references = [line.strip() for line in lines]\n",
        "print(f\"Spanish translation references:\\n{references}\")\n",
        "\n",
        "# Load and calculate BLEU score metric\n",
        "bleu = evaluate.load(\"bleu\")\n",
        "bleu_score = bleu.compute(predictions=[translated_review], references=[references])\n",
        "print(bleu_score['bleu'])"
      ],
      "metadata": {
        "executionCancelledAt": null,
        "executionTime": null,
        "lastExecutedAt": null,
        "lastExecutedByKernel": null,
        "lastScheduledRunId": null,
        "lastSuccessfullyExecutedCode": null,
        "outputsMetadata": {
          "0": {
            "height": 80,
            "type": "stream"
          },
          "1": {
            "height": 185,
            "type": "stream"
          },
          "8": {
            "height": 80,
            "type": "stream"
          },
          "9": {
            "height": 164,
            "type": "stream"
          },
          "13": {
            "height": 38,
            "type": "stream"
          }
        },
        "id": "667d456f-384e-4d2a-b68b-85e8a826f88c",
        "outputId": "374c6810-fe38-48a2-a926-a502d3da8700"
      },
      "cell_type": "code",
      "id": "667d456f-384e-4d2a-b68b-85e8a826f88c",
      "outputs": [
        {
          "output_type": "stream",
          "name": "stderr",
          "text": "Device set to use cpu\nYour input_length: 365 is bigger than 0.9 * max_length: 27. You might consider increasing your max_length manually, e.g. translator('...', max_length=400)\n"
        },
        {
          "output_type": "stream",
          "name": "stdout",
          "text": "Model translation:\nEstoy muy satisfecho con mi 2014 Nissan NV SL. Uso esta furgoneta para mis entregas de negocios y uso personal.\nSpanish translation references:\n['Estoy muy satisfecho con mi Nissan NV SL 2014. Utilizo esta camioneta para mis entregas comerciales y uso personal.', 'Estoy muy satisfecho con mi Nissan NV SL 2014. Uso esta furgoneta para mis entregas comerciales y uso personal.']\n0.6022774485691839\n"
        }
      ],
      "execution_count": null
    },
    {
      "source": [
        "# Building QA pipeline\n",
        "from transformers import pipeline\n",
        "\n",
        "# Define model checkpoint\n",
        "model_ckp = \"deepset/minilm-uncased-squad2\"\n",
        "\n",
        "# Create a question-answering pipeline\n",
        "qa_pipeline = pipeline(\"question-answering\", model=model_ckp, tokenizer=model_ckp)\n",
        "\n",
        "# Define context and question\n",
        "context = reviews[1]\n",
        "question = \"What did he like about the brand?\"\n",
        "\n",
        "# Run the QA pipeline\n",
        "result = qa_pipeline(question=question, context=context)\n",
        "\n",
        "# Show the answer\n",
        "print(f\"Context:\\n{context}\")\n",
        "print(f\"\\nQuestion:{question}\")\n",
        "print(\"Answer:\", result[\"answer\"])"
      ],
      "metadata": {
        "executionCancelledAt": null,
        "executionTime": null,
        "lastExecutedAt": null,
        "lastExecutedByKernel": null,
        "lastScheduledRunId": null,
        "lastSuccessfullyExecutedCode": null,
        "outputsMetadata": {
          "0": {
            "height": 206,
            "type": "stream"
          },
          "1": {
            "height": 269,
            "type": "stream"
          },
          "2": {
            "height": 185,
            "type": "stream"
          },
          "6": {
            "height": 38,
            "type": "stream"
          },
          "7": {
            "height": 38,
            "type": "stream"
          }
        },
        "id": "15b3a171-e3d1-44d9-90dd-443c12cf483c",
        "outputId": "9889c178-ed73-40a1-de5f-2f0469cf4479"
      },
      "cell_type": "code",
      "id": "15b3a171-e3d1-44d9-90dd-443c12cf483c",
      "outputs": [
        {
          "output_type": "stream",
          "name": "stderr",
          "text": "Some weights of the model checkpoint at deepset/minilm-uncased-squad2 were not used when initializing BertForQuestionAnswering: ['bert.pooler.dense.bias', 'bert.pooler.dense.weight']\n- This IS expected if you are initializing BertForQuestionAnswering from the checkpoint of a model trained on another task or with another architecture (e.g. initializing a BertForSequenceClassification model from a BertForPreTraining model).\n- This IS NOT expected if you are initializing BertForQuestionAnswering from the checkpoint of a model that you expect to be exactly identical (initializing a BertForSequenceClassification model from a BertForSequenceClassification model).\nDevice set to use cpu\n"
        },
        {
          "output_type": "stream",
          "name": "stdout",
          "text": "Context:\nThe car is fine. It's a bit loud and not very powerful. On one hand, compared to its peers, the interior is well-built. The transmission failed a few years ago, and the dealer replaced it under warranty with no issues. Now, about 60k miles later, the transmission is failing again. It sounds like a truck, and the issues are well-documented. The dealer tells me it is normal, refusing to do anything to resolve the issue. After owning the car for 4 years, there are many other vehicles I would purchase over this one. Initially, I really liked what the brand is about: ride quality, reliability, etc. But I will not purchase another one. Despite these concerns, I must say, the level of comfort in the car has always been satisfactory, but not worth the rest of issues found.\n\nQuestion:What did he like about the brand?\nAnswer: ride quality, reliability\n"
        }
      ],
      "execution_count": null
    },
    {
      "source": [
        "#Summarizing the review\n",
        "# Get original text to summarize upon car review\n",
        "text_to_summarize = reviews[-1]\n",
        "print(f\"Original text:\\n{text_to_summarize}\")\n",
        "\n",
        "# Load summarization pipeline and perform inference\n",
        "model_name = \"cnicu/t5-small-booksum\"\n",
        "summarizer = pipeline(\"summarization\", model=model_name)\n",
        "outputs = summarizer(text_to_summarize, max_length=95)\n",
        "summarized_text = outputs[0]['summary_text']\n",
        "print(f\"Summarized text:\\n{summarized_text}\")\n"
      ],
      "metadata": {
        "executionCancelledAt": null,
        "executionTime": 2623,
        "lastExecutedAt": 1744399298060,
        "lastExecutedByKernel": "ba0ea5e1-b52e-43ef-b47f-d580dd08b68d",
        "lastScheduledRunId": null,
        "lastSuccessfullyExecutedCode": "#Summarizing the review\n# Get original text to summarize upon car review\ntext_to_summarize = reviews[-1]\nprint(f\"Original text:\\n{text_to_summarize}\")\n\n# Load summarization pipeline and perform inference\nmodel_name = \"cnicu/t5-small-booksum\"\nsummarizer = pipeline(\"summarization\", model=model_name)\noutputs = summarizer(text_to_summarize, max_length=95)\nsummarized_text = outputs[0]['summary_text']\nprint(f\"Summarized text:\\n{summarized_text}\")\n",
        "outputsMetadata": {
          "0": {
            "height": 269,
            "type": "stream"
          },
          "1": {
            "height": 38,
            "type": "stream"
          },
          "2": {
            "height": 143,
            "type": "stream"
          },
          "8": {
            "height": 38,
            "type": "stream"
          },
          "9": {
            "height": 101,
            "type": "stream"
          }
        },
        "id": "8b94fadf-5997-4996-8e5c-f1aee67e2923",
        "outputId": "62ac9eee-91f0-4019-bbe3-ed2fce6ac03a"
      },
      "cell_type": "code",
      "id": "8b94fadf-5997-4996-8e5c-f1aee67e2923",
      "outputs": [
        {
          "output_type": "stream",
          "name": "stdout",
          "text": "Original text:\nI've been dreaming of owning an SUV for quite a while, but I've been driving cars that were already paid for during an extended period. I ultimately made the decision to transition to a brand-new car, which, of course, involved taking on new payments. However, given that I don't drive extensively, I was inclined to avoid a substantial financial commitment. The Nissan Rogue provides me with the desired SUV experience without burdening me with an exorbitant payment; the financial arrangement is quite reasonable. Handling and styling are great; I have hauled 12 bags of mulch in the back with the seats down and could have held more. I am VERY satisfied overall. I find myself needing to exercise extra caution when making lane changes, particularly owing to the blind spots resulting from the small side windows situated towards the rear of the vehicle. To address this concern, I am actively engaged in making adjustments to my mirrors and consciously reducing the frequency of lane changes. The engine delivers strong performance, and the ride is really smooth.\n"
        },
        {
          "output_type": "stream",
          "name": "stderr",
          "text": "Device set to use cpu\n"
        },
        {
          "output_type": "stream",
          "name": "stdout",
          "text": "Summarized text:\nthe Nissan Rogue provides me with the desired SUV experience without burdening me with an exorbitant payment; the financial arrangement is quite reasonable. Handling and styling are great; I have hauled 12 bags of mulch in the back with the seats down and could have held more. I find myself needing extra caution when making lane changes, especially owing to the blind spots resulting from the small side windows situated towards the rear of the vehicle.\n"
        }
      ],
      "execution_count": null
    }
  ],
  "metadata": {
    "language_info": {
      "name": "python",
      "version": "3.10.12",
      "mimetype": "text/x-python",
      "codemirror_mode": {
        "name": "ipython",
        "version": 3
      },
      "pygments_lexer": "ipython3",
      "nbconvert_exporter": "python",
      "file_extension": ".py"
    },
    "kernelspec": {
      "display_name": "Python 3 (ipykernel)",
      "language": "python",
      "name": "python3"
    },
    "editor": "DataLab",
    "colab": {
      "provenance": []
    }
  },
  "nbformat": 4,
  "nbformat_minor": 5
}